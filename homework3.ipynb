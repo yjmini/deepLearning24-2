{
  "nbformat": 4,
  "nbformat_minor": 0,
  "metadata": {
    "colab": {
      "provenance": [],
      "gpuType": "T4"
    },
    "kernelspec": {
      "name": "python3",
      "display_name": "Python 3"
    },
    "language_info": {
      "name": "python"
    },
    "accelerator": "GPU"
  },
  "cells": [
    {
      "cell_type": "markdown",
      "source": [
        "#[문제 1] Fashion MNIST 데이터 정규화를 위한 Mean과 Std 값 찾기"
      ],
      "metadata": {
        "id": "MuAK2WSTQjXT"
      }
    },
    {
      "cell_type": "code",
      "execution_count": 1,
      "metadata": {
        "colab": {
          "base_uri": "https://localhost:8080/",
          "height": 0
        },
        "id": "HGQKNLTfQSSZ",
        "outputId": "95e94003-b3b9-41f4-8c0e-f56da6294378"
      },
      "outputs": [
        {
          "output_type": "stream",
          "name": "stdout",
          "text": [
            "Downloading http://fashion-mnist.s3-website.eu-central-1.amazonaws.com/train-images-idx3-ubyte.gz\n",
            "Downloading http://fashion-mnist.s3-website.eu-central-1.amazonaws.com/train-images-idx3-ubyte.gz to /content/_00_data/j_fashion_mnist/FashionMNIST/raw/train-images-idx3-ubyte.gz\n"
          ]
        },
        {
          "output_type": "stream",
          "name": "stderr",
          "text": [
            "100%|██████████| 26.4M/26.4M [00:02<00:00, 13.2MB/s]\n"
          ]
        },
        {
          "output_type": "stream",
          "name": "stdout",
          "text": [
            "Extracting /content/_00_data/j_fashion_mnist/FashionMNIST/raw/train-images-idx3-ubyte.gz to /content/_00_data/j_fashion_mnist/FashionMNIST/raw\n",
            "\n",
            "Downloading http://fashion-mnist.s3-website.eu-central-1.amazonaws.com/train-labels-idx1-ubyte.gz\n",
            "Downloading http://fashion-mnist.s3-website.eu-central-1.amazonaws.com/train-labels-idx1-ubyte.gz to /content/_00_data/j_fashion_mnist/FashionMNIST/raw/train-labels-idx1-ubyte.gz\n"
          ]
        },
        {
          "output_type": "stream",
          "name": "stderr",
          "text": [
            "100%|██████████| 29.5k/29.5k [00:00<00:00, 210kB/s]\n"
          ]
        },
        {
          "output_type": "stream",
          "name": "stdout",
          "text": [
            "Extracting /content/_00_data/j_fashion_mnist/FashionMNIST/raw/train-labels-idx1-ubyte.gz to /content/_00_data/j_fashion_mnist/FashionMNIST/raw\n",
            "\n",
            "Downloading http://fashion-mnist.s3-website.eu-central-1.amazonaws.com/t10k-images-idx3-ubyte.gz\n",
            "Downloading http://fashion-mnist.s3-website.eu-central-1.amazonaws.com/t10k-images-idx3-ubyte.gz to /content/_00_data/j_fashion_mnist/FashionMNIST/raw/t10k-images-idx3-ubyte.gz\n"
          ]
        },
        {
          "output_type": "stream",
          "name": "stderr",
          "text": [
            "100%|██████████| 4.42M/4.42M [00:01<00:00, 3.93MB/s]\n"
          ]
        },
        {
          "output_type": "stream",
          "name": "stdout",
          "text": [
            "Extracting /content/_00_data/j_fashion_mnist/FashionMNIST/raw/t10k-images-idx3-ubyte.gz to /content/_00_data/j_fashion_mnist/FashionMNIST/raw\n",
            "\n",
            "Downloading http://fashion-mnist.s3-website.eu-central-1.amazonaws.com/t10k-labels-idx1-ubyte.gz\n",
            "Downloading http://fashion-mnist.s3-website.eu-central-1.amazonaws.com/t10k-labels-idx1-ubyte.gz to /content/_00_data/j_fashion_mnist/FashionMNIST/raw/t10k-labels-idx1-ubyte.gz\n"
          ]
        },
        {
          "output_type": "stream",
          "name": "stderr",
          "text": [
            "100%|██████████| 5.15k/5.15k [00:00<00:00, 6.13MB/s]\n"
          ]
        },
        {
          "output_type": "stream",
          "name": "stdout",
          "text": [
            "Extracting /content/_00_data/j_fashion_mnist/FashionMNIST/raw/t10k-labels-idx1-ubyte.gz to /content/_00_data/j_fashion_mnist/FashionMNIST/raw\n",
            "\n",
            "torch.Size([1, 28, 28, 60000])\n",
            "Mean: tensor([0.2860])\n",
            "Std: tensor([0.3530])\n"
          ]
        }
      ],
      "source": [
        "import os\n",
        "from pathlib import Path\n",
        "import torch\n",
        "from torch import nn\n",
        "from torchvision import datasets\n",
        "from torchvision.transforms import transforms\n",
        "\n",
        "BASE_PATH = \"/content\"\n",
        "\n",
        "data_path = os.path.join(BASE_PATH, \"_00_data\", \"j_fashion_mnist\")\n",
        "\n",
        "# FashionMNIST 데이터셋을 train=True로 설정하여 학습 데이터셋을 로드\n",
        "f_mnist_train = datasets.FashionMNIST(data_path, train=True, download=True, transform=transforms.ToTensor())\n",
        "\n",
        "imgs = torch.stack([img_t for img_t, _ in f_mnist_train], dim=3)\n",
        "print(imgs.shape)\n",
        "mean = imgs.view(1, -1).mean(dim=-1)\n",
        "std = imgs.view(1, -1).std(dim=-1)\n",
        "\n",
        "print('Mean:', mean)\n",
        "print('Std:', std)\n",
        "\n",
        "f_mnist_transforms = nn.Sequential(\n",
        "  transforms.ConvertImageDtype(torch.float),\n",
        "  transforms.Normalize(mean=mean, std=std),\n",
        ")\n"
      ]
    },
    {
      "cell_type": "markdown",
      "source": [
        "[문제 1]의 답: Mean: 0.2860 / Std: 0.3530"
      ],
      "metadata": {
        "id": "yVO2LLQZQnu6"
      }
    },
    {
      "cell_type": "markdown",
      "source": [
        "#[문제 2] Fashion MNIST 데이터에 대하여 CNN 학습시키기"
      ],
      "metadata": {
        "id": "1dSLeA4lQo7E"
      }
    },
    {
      "cell_type": "code",
      "source": [
        "!pip install torchinfo"
      ],
      "metadata": {
        "colab": {
          "base_uri": "https://localhost:8080/",
          "height": 0
        },
        "id": "i-u4rvfmQrq_",
        "outputId": "b10b5bf3-09ea-4b6c-8a2e-a3842164615e"
      },
      "execution_count": 14,
      "outputs": [
        {
          "output_type": "stream",
          "name": "stdout",
          "text": [
            "Collecting torchinfo\n",
            "  Downloading torchinfo-1.8.0-py3-none-any.whl.metadata (21 kB)\n",
            "Downloading torchinfo-1.8.0-py3-none-any.whl (23 kB)\n",
            "Installing collected packages: torchinfo\n",
            "Successfully installed torchinfo-1.8.0\n"
          ]
        }
      ]
    },
    {
      "cell_type": "code",
      "source": [
        "import torch\n",
        "from torch import nn, optim\n",
        "from torch.utils.data import DataLoader, random_split\n",
        "from torchvision import datasets, transforms\n",
        "from datetime import datetime\n",
        "import os\n",
        "import wandb\n",
        "from pathlib import Path\n",
        "from torchinfo import summary\n",
        "\n",
        "\n",
        "BASE_PATH = str(\".\")\n",
        "import sys\n",
        "sys.path.append(BASE_PATH)\n",
        "\n",
        "CURRENT_FILE_PATH = os.path.dirname(os.path.abspath(\".\"))\n",
        "CHECKPOINT_FILE_PATH = os.path.join(CURRENT_FILE_PATH, \"checkpoints\")\n",
        "if not os.path.isdir(CHECKPOINT_FILE_PATH):\n",
        "  os.makedirs(os.path.join(CURRENT_FILE_PATH, \"checkpoints\"))\n",
        "\n",
        "from utils import is_linux, is_windows, get_num_cpu_cores\n",
        "from c_trainer import ClassificationTrainer\n",
        "from e_arg_parser import get_parser\n",
        "\n",
        "#residual block 설정\n",
        "class ResidualBlock(nn.Module):\n",
        "  def __init__(self, in_channels, out_channels, stride=1):\n",
        "    super().__init__()\n",
        "    self.conv1 = nn.LazyConv2d(out_channels, kernel_size=3, stride=stride, padding=1)\n",
        "    self.bn1 = nn.LazyBatchNorm2d()\n",
        "    self.conv2 = nn.LazyConv2d(out_channels, kernel_size=3, stride=1, padding=1)\n",
        "    self.bn2 = nn.LazyBatchNorm2d()\n",
        "    self.shortcut = nn.Sequential()\n",
        "    if stride != 1 or in_channels != out_channels:\n",
        "      self.shortcut = nn.Sequential(\n",
        "        nn.LazyConv2d(out_channels, kernel_size=1, stride=stride),\n",
        "        nn.LazyBatchNorm2d()\n",
        "      )\n",
        "\n",
        "  def forward(self, x):\n",
        "    out = nn.ReLU()(self.bn1(self.conv1(x)))\n",
        "    out = self.bn2(self.conv2(out))\n",
        "    out += self.shortcut(x)\n",
        "    return nn.ReLU()(out)\n",
        "\n",
        "# ResNet 기반 CNN 모델\n",
        "def get_resnet_cnn_model():\n",
        "  class MyModelWithResNet(nn.Module):\n",
        "    def __init__(self, in_channels, n_output):\n",
        "      super().__init__()\n",
        "      self.model = nn.Sequential(\n",
        "        ResidualBlock(in_channels, 32),\n",
        "        nn.MaxPool2d(kernel_size=2, stride=2),\n",
        "        ResidualBlock(32, 64),\n",
        "        nn.MaxPool2d(kernel_size=2, stride=2),\n",
        "        ResidualBlock(64, 128),\n",
        "        nn.MaxPool2d(kernel_size=2, stride=2),\n",
        "        nn.Flatten(),\n",
        "        nn.LazyLinear(512),\n",
        "        nn.ReLU(),\n",
        "        nn.Dropout(0.3),\n",
        "        nn.LazyLinear(256),\n",
        "        nn.ReLU(),\n",
        "        nn.Dropout(0.3),\n",
        "        nn.LazyLinear(n_output),\n",
        "        )\n",
        "\n",
        "    def forward(self, x):\n",
        "      return self.model(x)\n",
        "\n",
        "  # 1 * 28 * 28\n",
        "  my_model_resnet = MyModelWithResNet(in_channels=1, n_output=10)\n",
        "\n",
        "  return my_model_resnet\n",
        "\n",
        "# Fashion MNIST 데이터를 로드하고 전처리\n",
        "def get_fashion_mnist_data():\n",
        "  data_path = os.path.join(BASE_PATH, \"_00_data\", \"j_fashion_mnist\")\n",
        "\n",
        "  # Fashion MNIST 데이터를 다운로드하고 전처리\n",
        "  f_mnist_train = datasets.FashionMNIST(data_path, train=True, download=True, transform=transforms.ToTensor())\n",
        "  # 학습 데이터와 검증 데이터로 분리\n",
        "  f_mnist_train, f_mnist_validation = random_split(f_mnist_train, [55_000, 5_000])\n",
        "\n",
        "  print(\"Num Train Samples: \", len(f_mnist_train))\n",
        "  print(\"Num Validation Samples: \", len(f_mnist_validation))\n",
        "\n",
        "  # colab에서는 최대 2까지만 지원한다는 경고가 출력되기 때문에 utils의 get_num_cpu_cores를 쓰지 않았다.\n",
        "  num_data_loading_workers = 2\n",
        "\n",
        "\n",
        "  # 데이터 로더를 생성\n",
        "  train_data_loader = DataLoader(\n",
        "    dataset=f_mnist_train, batch_size=wandb.config.batch_size, shuffle=True,\n",
        "    pin_memory=True, num_workers=num_data_loading_workers\n",
        "  )\n",
        "\n",
        "  validation_data_loader = DataLoader(\n",
        "    dataset=f_mnist_validation, batch_size=wandb.config.batch_size,\n",
        "    pin_memory=True, num_workers=num_data_loading_workers\n",
        "  )\n",
        "\n",
        "  # 데이터를 정규화하는 변환 함수를 정의\n",
        "  f_mnist_transforms = nn.Sequential(\n",
        "    transforms.ConvertImageDtype(torch.float),\n",
        "    transforms.Normalize(mean=0.2860, std=0.3530),\n",
        "  )\n",
        "\n",
        "  return train_data_loader, validation_data_loader, f_mnist_transforms\n",
        "\n",
        "\n",
        "def main(args):\n",
        "  parser = get_parser()\n",
        "  args = parser.parse_args()\n",
        "  run_time_str = datetime.now().astimezone().strftime('%Y-%m-%d_%H-%M-%S')\n",
        "\n",
        "  config = {\n",
        "    'epochs': args.epochs if args.epochs else 10000,\n",
        "    'batch_size': args.batch_size if args.batch_size else 512,\n",
        "    'validation_intervals': args.validation_intervals if args.validation_intervals else 10,\n",
        "    'learning_rate': args.learning_rate if args.learning_rate else 1e-3,\n",
        "    'early_stop_patience': args.early_stop_patience if args.early_stop_patience else 10,\n",
        "    'early_stop_delta': args.early_stop_delta if args.early_stop_delta else 0.00001\n",
        "\n",
        "  }\n",
        "\n",
        "  # wandb를 사용\n",
        "  project_name = \"cnn_mnist\"\n",
        "  wandb.init(\n",
        "    mode=\"online\",\n",
        "    project=project_name,\n",
        "    notes=\"fashion mnist experiment with cnn\",\n",
        "    tags=[\"cnn\", \"fashion_mnist\"],\n",
        "    name=\"resnet/\"+run_time_str,\n",
        "    config=config,\n",
        "    settings=wandb.Settings(start_method=\"fork\", resume=\"never\")\n",
        "  )\n",
        "  print(args)\n",
        "  print(wandb.config)\n",
        "\n",
        "  device = torch.device(\"cuda:0\" if torch.cuda.is_available() else \"cpu\")\n",
        "  print(f\"Training on device {device}.\")\n",
        "\n",
        "  train_data_loader, validation_data_loader, mnist_transforms = get_fashion_mnist_data()\n",
        "  model = get_resnet_cnn_model()\n",
        "  model.to(device)\n",
        "\n",
        "\n",
        "  # LazyModules 초기화를 위해 더미 입력을 한 번 전달\n",
        "  dummy_input = torch.randn(1, 1, 28, 28, device=device)  # 배치 크기 1, 채널 1, 28x28 이미지\n",
        "  model(dummy_input)\n",
        "\n",
        "  print(summary(model, input_size=(128, 1, 28, 28)))\n",
        "\n",
        "  wandb.watch(model)\n",
        "\n",
        "  # 모델의 파라미터를 최적화하는 옵티마이저와 학습률 스케줄러를 설정\n",
        "  optimizer = optim.Adam(model.parameters(), lr=wandb.config.learning_rate, betas=(0.9, 0.999), weight_decay=0.0005)\n",
        "\n",
        "  # ClassificationTrainer 인스턴스를 생성하고, 학습 루프를 시작\n",
        "  classification_trainer = ClassificationTrainer(\n",
        "    project_name, model, optimizer, train_data_loader, validation_data_loader, mnist_transforms,\n",
        "    run_time_str, wandb, device, CHECKPOINT_FILE_PATH\n",
        "  )\n",
        "\n",
        "  classification_trainer.train_loop()\n",
        "\n",
        "  wandb.finish()\n",
        "\n",
        "\n",
        "if __name__ == \"__main__\":\n",
        "  import sys\n",
        "  wandb.login()\n",
        "  sys.argv = sys.argv[:1]  # Colab에서 추가된 불필요한 인자 제거\n",
        "  # 파이썬 코드가 직접 실행될 때만 main 함수를 호출하여 학습을 시작\n",
        "  parser = get_parser()\n",
        "  args, unknown = parser.parse_known_args()\n",
        "  main(args)\n"
      ],
      "metadata": {
        "colab": {
          "base_uri": "https://localhost:8080/",
          "height": 1472
        },
        "id": "q5AABJWFQzat",
        "outputId": "df33c50c-f818-4cb7-9a8e-552af519d8cb"
      },
      "execution_count": 17,
      "outputs": [
        {
          "output_type": "display_data",
          "data": {
            "text/plain": [
              "<IPython.core.display.HTML object>"
            ],
            "text/html": [
              "Tracking run with wandb version 0.18.7"
            ]
          },
          "metadata": {}
        },
        {
          "output_type": "display_data",
          "data": {
            "text/plain": [
              "<IPython.core.display.HTML object>"
            ],
            "text/html": [
              "Run data is saved locally in <code>/content/wandb/run-20241123_113835-a4purpkj</code>"
            ]
          },
          "metadata": {}
        },
        {
          "output_type": "display_data",
          "data": {
            "text/plain": [
              "<IPython.core.display.HTML object>"
            ],
            "text/html": [
              "Syncing run <strong><a href='https://wandb.ai/jmyoon110-korea-university-of-technology-and-education/cnn_mnist/runs/a4purpkj' target=\"_blank\">resnet/2024-11-23_11-38-35</a></strong> to <a href='https://wandb.ai/jmyoon110-korea-university-of-technology-and-education/cnn_mnist' target=\"_blank\">Weights & Biases</a> (<a href='https://wandb.me/developer-guide' target=\"_blank\">docs</a>)<br/>"
            ]
          },
          "metadata": {}
        },
        {
          "output_type": "display_data",
          "data": {
            "text/plain": [
              "<IPython.core.display.HTML object>"
            ],
            "text/html": [
              " View project at <a href='https://wandb.ai/jmyoon110-korea-university-of-technology-and-education/cnn_mnist' target=\"_blank\">https://wandb.ai/jmyoon110-korea-university-of-technology-and-education/cnn_mnist</a>"
            ]
          },
          "metadata": {}
        },
        {
          "output_type": "display_data",
          "data": {
            "text/plain": [
              "<IPython.core.display.HTML object>"
            ],
            "text/html": [
              " View run at <a href='https://wandb.ai/jmyoon110-korea-university-of-technology-and-education/cnn_mnist/runs/a4purpkj' target=\"_blank\">https://wandb.ai/jmyoon110-korea-university-of-technology-and-education/cnn_mnist/runs/a4purpkj</a>"
            ]
          },
          "metadata": {}
        },
        {
          "output_type": "stream",
          "name": "stdout",
          "text": [
            "Namespace(wandb=False, batch_size=128, epochs=1000, learning_rate=0.001, validation_intervals=1, early_stop_patience=5, early_stop_delta=1e-05)\n",
            "{'epochs': 1000, 'batch_size': 128, 'validation_intervals': 1, 'learning_rate': 0.001, 'early_stop_patience': 5, 'early_stop_delta': 1e-05}\n",
            "Training on device cuda:0.\n",
            "Num Train Samples:  55000\n",
            "Num Validation Samples:  5000\n",
            "==========================================================================================\n",
            "Layer (type:depth-idx)                   Output Shape              Param #\n",
            "==========================================================================================\n",
            "MyModelWithResNet                        [128, 10]                 --\n",
            "├─Sequential: 1-1                        [128, 10]                 --\n",
            "│    └─ResidualBlock: 2-1                [128, 32, 28, 28]         --\n",
            "│    │    └─Conv2d: 3-1                  [128, 32, 28, 28]         320\n",
            "│    │    └─BatchNorm2d: 3-2             [128, 32, 28, 28]         64\n",
            "│    │    └─Conv2d: 3-3                  [128, 32, 28, 28]         9,248\n",
            "│    │    └─BatchNorm2d: 3-4             [128, 32, 28, 28]         64\n",
            "│    │    └─Sequential: 3-5              [128, 32, 28, 28]         128\n",
            "│    └─MaxPool2d: 2-2                    [128, 32, 14, 14]         --\n",
            "│    └─ResidualBlock: 2-3                [128, 64, 14, 14]         --\n",
            "│    │    └─Conv2d: 3-6                  [128, 64, 14, 14]         18,496\n",
            "│    │    └─BatchNorm2d: 3-7             [128, 64, 14, 14]         128\n",
            "│    │    └─Conv2d: 3-8                  [128, 64, 14, 14]         36,928\n",
            "│    │    └─BatchNorm2d: 3-9             [128, 64, 14, 14]         128\n",
            "│    │    └─Sequential: 3-10             [128, 64, 14, 14]         2,240\n",
            "│    └─MaxPool2d: 2-4                    [128, 64, 7, 7]           --\n",
            "│    └─ResidualBlock: 2-5                [128, 128, 7, 7]          --\n",
            "│    │    └─Conv2d: 3-11                 [128, 128, 7, 7]          73,856\n",
            "│    │    └─BatchNorm2d: 3-12            [128, 128, 7, 7]          256\n",
            "│    │    └─Conv2d: 3-13                 [128, 128, 7, 7]          147,584\n",
            "│    │    └─BatchNorm2d: 3-14            [128, 128, 7, 7]          256\n",
            "│    │    └─Sequential: 3-15             [128, 128, 7, 7]          8,576\n",
            "│    └─MaxPool2d: 2-6                    [128, 128, 3, 3]          --\n",
            "│    └─Flatten: 2-7                      [128, 1152]               --\n",
            "│    └─Linear: 2-8                       [128, 512]                590,336\n",
            "│    └─ReLU: 2-9                         [128, 512]                --\n",
            "│    └─Dropout: 2-10                     [128, 512]                --\n",
            "│    └─Linear: 2-11                      [128, 256]                131,328\n",
            "│    └─ReLU: 2-12                        [128, 256]                --\n",
            "│    └─Dropout: 2-13                     [128, 256]                --\n",
            "│    └─Linear: 2-14                      [128, 10]                 2,570\n",
            "==========================================================================================\n",
            "Total params: 1,022,506\n",
            "Trainable params: 1,022,506\n",
            "Non-trainable params: 0\n",
            "Total mult-adds (G): 3.94\n",
            "==========================================================================================\n",
            "Input size (MB): 0.40\n",
            "Forward/backward pass size (MB): 270.54\n",
            "Params size (MB): 4.09\n",
            "Estimated Total Size (MB): 275.03\n",
            "==========================================================================================\n",
            "[Epoch   1] T_loss: 0.42221, T_accuracy: 84.6473 | V_loss: 0.24103, V_accuracy: 91.2600 | Early stopping is stated! | T_time: 00:00:13, T_speed: 0.077\n",
            "[Epoch   2] T_loss: 0.26558, T_accuracy: 90.2582 | V_loss: 0.24813, V_accuracy: 90.8400 | Early stopping counter: 1 out of 5 | T_time: 00:00:24, T_speed: 0.083\n",
            "[Epoch   3] T_loss: 0.22662, T_accuracy: 91.7564 | V_loss: 0.22862, V_accuracy: 92.0200 | V_loss decreased (0.24103 --> 0.22862). Saving model... | T_time: 00:00:35, T_speed: 0.086\n",
            "[Epoch   4] T_loss: 0.15619, T_accuracy: 94.3200 | V_loss: 0.16894, V_accuracy: 93.7400 | V_loss decreased (0.22862 --> 0.16894). Saving model... | T_time: 00:00:46, T_speed: 0.087\n",
            "[Epoch   5] T_loss: 0.13333, T_accuracy: 95.1982 | V_loss: 0.16535, V_accuracy: 94.1600 | V_loss decreased (0.16894 --> 0.16535). Saving model... | T_time: 00:00:57, T_speed: 0.088\n",
            "[Epoch   6] T_loss: 0.11701, T_accuracy: 95.8236 | V_loss: 0.16289, V_accuracy: 94.4600 | V_loss decreased (0.16535 --> 0.16289). Saving model... | T_time: 00:01:08, T_speed: 0.088\n",
            "[Epoch   7] T_loss: 0.09624, T_accuracy: 96.6782 | V_loss: 0.16488, V_accuracy: 94.2600 | Early stopping counter: 1 out of 5 | T_time: 00:01:19, T_speed: 0.089\n",
            "[Epoch   8] T_loss: 0.09241, T_accuracy: 96.7309 | V_loss: 0.16455, V_accuracy: 94.3000 | Early stopping counter: 2 out of 5 | T_time: 00:01:29, T_speed: 0.090\n",
            "[Epoch   9] T_loss: 0.08935, T_accuracy: 96.9164 | V_loss: 0.16572, V_accuracy: 94.2000 | Early stopping counter: 3 out of 5 | T_time: 00:01:41, T_speed: 0.089\n",
            "[Epoch  10] T_loss: 0.08636, T_accuracy: 97.0309 | V_loss: 0.16550, V_accuracy: 94.2400 | Early stopping counter: 4 out of 5 | T_time: 00:01:52, T_speed: 0.089\n",
            "[Epoch  11] T_loss: 0.08646, T_accuracy: 97.0018 | V_loss: 0.16572, V_accuracy: 94.2600 | Early stopping counter: 5 out of 5 *** TRAIN EARLY STOPPED! *** | T_time: 00:02:03, T_speed: 0.089\n",
            "Final training time: 00:02:03\n"
          ]
        },
        {
          "output_type": "display_data",
          "data": {
            "text/plain": [
              "<IPython.core.display.HTML object>"
            ],
            "text/html": [
              "\n",
              "    <style>\n",
              "        .wandb-row {\n",
              "            display: flex;\n",
              "            flex-direction: row;\n",
              "            flex-wrap: wrap;\n",
              "            justify-content: flex-start;\n",
              "            width: 100%;\n",
              "        }\n",
              "        .wandb-col {\n",
              "            display: flex;\n",
              "            flex-direction: column;\n",
              "            flex-basis: 100%;\n",
              "            flex: 1;\n",
              "            padding: 10px;\n",
              "        }\n",
              "    </style>\n",
              "<div class=\"wandb-row\"><div class=\"wandb-col\"><h3>Run history:</h3><br/><table class=\"wandb\"><tr><td>Epoch</td><td>▁▂▂▃▄▅▅▆▇▇█</td></tr><tr><td>Training accuracy (%)</td><td>▁▄▅▆▇▇█████</td></tr><tr><td>Training loss</td><td>█▅▄▂▂▂▁▁▁▁▁</td></tr><tr><td>Training speed (epochs/sec.)</td><td>▁▄▆▆▇▇▇████</td></tr><tr><td>Validation accuracy (%)</td><td>▂▁▃▇▇███▇██</td></tr><tr><td>Validation loss</td><td>▇█▆▁▁▁▁▁▁▁▁</td></tr></table><br/></div><div class=\"wandb-col\"><h3>Run summary:</h3><br/><table class=\"wandb\"><tr><td>Epoch</td><td>11</td></tr><tr><td>Training accuracy (%)</td><td>97.00182</td></tr><tr><td>Training loss</td><td>0.08646</td></tr><tr><td>Training speed (epochs/sec.)</td><td>0.08943</td></tr><tr><td>Validation accuracy (%)</td><td>94.26</td></tr><tr><td>Validation loss</td><td>0.16572</td></tr></table><br/></div></div>"
            ]
          },
          "metadata": {}
        },
        {
          "output_type": "display_data",
          "data": {
            "text/plain": [
              "<IPython.core.display.HTML object>"
            ],
            "text/html": [
              " View run <strong style=\"color:#cdcd00\">resnet/2024-11-23_11-38-35</strong> at: <a href='https://wandb.ai/jmyoon110-korea-university-of-technology-and-education/cnn_mnist/runs/a4purpkj' target=\"_blank\">https://wandb.ai/jmyoon110-korea-university-of-technology-and-education/cnn_mnist/runs/a4purpkj</a><br/> View project at: <a href='https://wandb.ai/jmyoon110-korea-university-of-technology-and-education/cnn_mnist' target=\"_blank\">https://wandb.ai/jmyoon110-korea-university-of-technology-and-education/cnn_mnist</a><br/>Synced 5 W&B file(s), 0 media file(s), 0 artifact file(s) and 0 other file(s)"
            ]
          },
          "metadata": {}
        },
        {
          "output_type": "display_data",
          "data": {
            "text/plain": [
              "<IPython.core.display.HTML object>"
            ],
            "text/html": [
              "Find logs at: <code>./wandb/run-20241123_113835-a4purpkj/logs</code>"
            ]
          },
          "metadata": {}
        }
      ]
    },
    {
      "cell_type": "markdown",
      "source": [
        "위와 같이 Validation accuracy가 94.26%이므로 문제의 조건에 부합한다.\n",
        "\n",
        "그리고 교수님께서 말씀하신대로 torchinfo 모듈을 사용하여 모델 구조를 출력하였다."
      ],
      "metadata": {
        "id": "rPlDwyf-5o8X"
      }
    },
    {
      "cell_type": "markdown",
      "source": [
        "- batch size: 2048, 1024, 512, 256, 128, 64 중에 128과 64에서 좋은 성능을 보였다. resnet으로 수정하면서 128일 때 가장 좋은 성능을 보여서 128로 설정하였다.\n",
        "- lr_scheduler: lr_scheduler를 사용하는 것의 validation accuracy가 더 좋게 나와서 c_trainer.py 코드 안에 스케줄러를 사용하도록 만들어주었다. 작성한 코드는 아래와 같다. 한 epoch에서 많은 연산이 이뤄지기 때문에 경험적인 판단으로 step _size를 적당히 3 정도로 주었다.\n",
        "        scheduler = torch.optim.lr_scheduler.StepLR(self.optimizer, step_size=3, gamma=0.1)\n",
        "\n",
        "- validation_interval: early stop을 좀 더 효율적으로 하기 위해 1로 설정하였다.\n",
        "- early stop patience: 한 epoch에서 많은 연산이 일어나기 때문에 5로 설정하였다.\n",
        "- batch nomalization: 저번 과제에서 사용했던 batch nomalization도 사용했다. 안정적인 학습이 가능하고, 정규화 효과를 통해 과적합을 방지할 수 있다.\n",
        "- dropout: dropout이 없을 때부터 0.5까지 진행해보았고, 보통 0.5가 적절하다고 알고 있었는데, 이번에는 0.2~0.3 정도에서 가장 좋은 성능을 보였다. resnet으로 수정하면서 0.3으로 고정하였다.\n",
        "- 활성화 함수: leakyReLU, ELU, ReLU를 사용해보았고, ReLU의 성능이 유의미하게 좋았기 때문에 ReLU를 사용하였다.\n",
        "- learning rate: 0.01, 0.001, 0.0001을 사용해본 결과 0.001이 월등히 좋은 성능을 보였다.\n",
        "- optimizer: 기존에 썼던 SGD 등 다른 optimizer보다 adam의 성능이 제일 좋아서 adam을 사용하였다.\n",
        "- weight decay: 0.01, 0.001, 0.0001, 0.00001, 0.0003, 0.0005 등 다양하게 조절해보았고, 1e-4 정도의 weight decay에서 가장 좋은 성능이 나왔다. 이 정도 수준에서 조금 더 조절해본 결과 0.0005가 가장 좋다고 생각했다.\n",
        "- image augmentation: 이미지를 랜덤으로 좌우반전하고, -10도에서 10도 범위 내에서 랜덤으로 회전시키도록 하여 학습 성능을 높이도록 하고 싶었지만, 실제 학습 결과 validation_accuracy 값이 거의 1프로나 떨어지게 나와서 원래 코드로 돌아왔다. image augmentation을 위해 작성한 코드를 아래에 첨부하였다.\n",
        "      f_mnist_transforms = transforms.Compose([\n",
        "        transforms.RandomHorizontalFlip(),\n",
        "        transforms.RandomRotation(10),\n",
        "        transforms.ConvertImageDtype(torch.float),\n",
        "        transforms.Normalize(mean=0.2860, std=0.3530)  # Fashion MNIST의 평균과 표준편차\n",
        "      ])"
      ],
      "metadata": {
        "id": "6P0m_mI9Q19J"
      }
    },
    {
      "cell_type": "markdown",
      "source": [
        "#[문제 3] 학습 완료된 모델로 테스트 데이터 Accuracy 확인하기"
      ],
      "metadata": {
        "id": "x1W3F3piQ3xr"
      }
    },
    {
      "cell_type": "code",
      "source": [
        "import numpy as np\n",
        "import torch\n",
        "import os\n",
        "\n",
        "from matplotlib import pyplot as plt\n",
        "from torch import nn\n",
        "from torchvision import transforms, datasets\n",
        "from pathlib import Path\n",
        "\n",
        "from torch.utils.data import DataLoader\n",
        "\n",
        "BASE_PATH = str(\".\")\n",
        "CURRENT_FILE_PATH = os.path.dirname(\".\")\n",
        "CHECKPOINT_FILE_PATH = os.path.join(CURRENT_FILE_PATH, \"checkpoints\")\n",
        "\n",
        "import sys\n",
        "sys.path.append(BASE_PATH)\n",
        "\n",
        "from hw3 import get_resnet_cnn_model\n",
        "from a_fashion_mnist_data import get_fashion_mnist_test_data\n",
        "from d_tester import ClassificationTester\n",
        "\n",
        "\n",
        "def get_mnist_test_data():\n",
        "  data_path = os.path.join(BASE_PATH, \"_00_data\", \"j_fashion_mnist\")\n",
        "\n",
        "  fashion_mnist_test_images = datasets.FashionMNIST(data_path, train=False, download=True)\n",
        "\n",
        "  fashion_mnist_test = datasets.FashionMNIST(\n",
        "        data_path, train=False, download=True, transform=transforms.ToTensor()\n",
        "    )\n",
        "  test_data_loader = DataLoader(dataset=fashion_mnist_test, batch_size=len(fashion_mnist_test))\n",
        "\n",
        "  mnist_transforms = nn.Sequential(\n",
        "    transforms.ConvertImageDtype(torch.float),\n",
        "    transforms.Normalize(mean=0.2860, std=0.3530),\n",
        "  )\n",
        "\n",
        "  return fashion_mnist_test_images, test_data_loader, mnist_transforms\n",
        "\n",
        "\n",
        "def main():\n",
        "  fashion_mnist_test_images, test_data_loader, mnist_transforms = get_fashion_mnist_test_data()\n",
        "\n",
        "  test_model = get_resnet_cnn_model()\n",
        "\n",
        "  project_name = \"cnn_mnist\"\n",
        "  classification_tester = ClassificationTester(\n",
        "    project_name, test_model, test_data_loader, mnist_transforms, CHECKPOINT_FILE_PATH\n",
        "  )\n",
        "  classification_tester.test()\n",
        "\n",
        "  print()\n",
        "\n",
        "  img, label = fashion_mnist_test_images[0]\n",
        "  print(\"     LABEL:\", label)\n",
        "  plt.imshow(img)\n",
        "  plt.show()\n",
        "\n",
        "  # torch.tensor(np.array(mnist_test_images[0][0])).unsqueeze(dim=0).unsqueeze(dim=0).shape: (1, 1, 28, 28)\n",
        "  output = classification_tester.test_single(\n",
        "    torch.tensor(np.array(fashion_mnist_test_images[0][0])).unsqueeze(dim=0).unsqueeze(dim=0)\n",
        "  )\n",
        "  print(\"PREDICTION:\", output)\n",
        "\n",
        "\n",
        "if __name__ == \"__main__\":\n",
        "  main()\n"
      ],
      "metadata": {
        "id": "dcBWUkhmRbeT",
        "colab": {
          "base_uri": "https://localhost:8080/",
          "height": 551
        },
        "outputId": "78403ee5-cb51-496d-9ad0-f42e45d928f8"
      },
      "execution_count": 30,
      "outputs": [
        {
          "output_type": "stream",
          "name": "stdout",
          "text": [
            "Num Test Samples:  10000\n",
            "Sample Shape:  torch.Size([1, 28, 28])\n",
            "MODEL FILE: checkpoints/cnn_mnist_checkpoint_latest.pt\n",
            "TEST RESULTS: 93.200%\n",
            "\n",
            "     LABEL: 9\n"
          ]
        },
        {
          "output_type": "display_data",
          "data": {
            "text/plain": [
              "<Figure size 640x480 with 1 Axes>"
            ],
            "image/png": "[encoded data removed]"
          },
          "metadata": {}
        },
        {
          "output_type": "stream",
          "name": "stdout",
          "text": [
            "PREDICTION: 9\n"
          ]
        }
      ]
    },
    {
      "cell_type": "markdown",
      "source": [
        "위와 같이 Test accuracy가 93.2%이므로 문제의 조건에 부합한다."
      ],
      "metadata": {
        "id": "qAEo_-yg5Zzk"
      }
    },
    {
      "cell_type": "markdown",
      "source": [
        "#[문제 4] 샘플 테스트 데이터 분류 예측 결과 확인하기"
      ],
      "metadata": {
        "id": "kk2E1gjKRWj-"
      }
    },
    {
      "cell_type": "code",
      "source": [
        "from hw3 import get_resnet_cnn_model\n",
        "from a_fashion_mnist_data import get_fashion_mnist_test_data\n",
        "from d_tester import ClassificationTester\n",
        "\n",
        "def main():\n",
        "    print(\"이미지 예측 시작\")\n",
        "      # 모델과 테스트 데이터를 가져옵니다.\n",
        "    model = get_resnet_cnn_model()\n",
        "    project_name = \"cnn_mnist\"\n",
        "\n",
        "    # 테스트 데이터 준비\n",
        "    fashion_mnist_test_images, test_data_loader, fashion_mnist_transforms = get_fashion_mnist_test_data()\n",
        "\n",
        "    # ClassificationTester를 초기화합니다.\n",
        "    classification_tester = ClassificationTester(\n",
        "        project_name, model, test_data_loader, fashion_mnist_transforms, CHECKPOINT_FILE_PATH\n",
        "    )\n",
        "\n",
        "    # 임의의 이미지 10장에 대한 분석을 수행합니다.\n",
        "    for i in range(10):\n",
        "        img, label = fashion_mnist_test_images[i+10]\n",
        "        print(f\"Image {i + 1}:\")\n",
        "        print(\"   LABEL:\", label)\n",
        "\n",
        "        # 이미지를 표시합니다.\n",
        "        plt.imshow(img)\n",
        "        plt.show()\n",
        "\n",
        "        # 모델을 사용하여 예측을 수행합니다.\n",
        "        output = classification_tester.test_single(torch.tensor(np.array(img)).unsqueeze(dim=0).unsqueeze(dim=0))\n",
        "        print(\"PREDICTION:\", output)\n",
        "        print()\n",
        "\n",
        "\n",
        "if __name__ == \"__main__\":\n",
        "    main()"
      ],
      "metadata": {
        "id": "I_Z75Ov-RbLD",
        "colab": {
          "base_uri": "https://localhost:8080/",
          "height": 4965
        },
        "outputId": "d641e9ca-4e0e-44b6-9028-a587b38108b4"
      },
      "execution_count": 33,
      "outputs": [
        {
          "output_type": "stream",
          "name": "stdout",
          "text": [
            "이미지 예측 시작\n",
            "Num Test Samples:  10000\n",
            "Sample Shape:  torch.Size([1, 28, 28])\n",
            "MODEL FILE: checkpoints/cnn_mnist_checkpoint_latest.pt\n",
            "Image 1:\n",
            "   LABEL: 4\n"
          ]
        },
        {
          "output_type": "stream",
          "name": "stderr",
          "text": [
            "/content/d_tester.py:18: FutureWarning: You are using `torch.load` with `weights_only=False` (the current default value), which uses the default pickle module implicitly. It is possible to construct malicious pickle data which will execute arbitrary code during unpickling (See https://github.com/pytorch/pytorch/blob/main/SECURITY.md#untrusted-models for more details). In a future release, the default value for `weights_only` will be flipped to `True`. This limits the functions that could be executed during unpickling. Arbitrary objects will no longer be allowed to be loaded via this mode unless they are explicitly allowlisted by the user via `torch.serialization.add_safe_globals`. We recommend you start setting `weights_only=True` for any use case where you don't have full control of the loaded file. Please open an issue on GitHub for any issues related to this experimental feature.\n",
            "  self.model.load_state_dict(torch.load(self.latest_file_path, map_location=torch.device('cpu')))\n"
          ]
        },
        {
          "output_type": "display_data",
          "data": {
            "text/plain": [
              "<Figure size 640x480 with 1 Axes>"
            ],
            "image/png": "[encoded data removed]"
          },
          "metadata": {}
        },
        {
          "output_type": "stream",
          "name": "stdout",
          "text": [
            "PREDICTION: 4\n",
            "\n",
            "Image 2:\n",
            "   LABEL: 5\n"
          ]
        },
        {
          "output_type": "display_data",
          "data": {
            "text/plain": [
              "<Figure size 640x480 with 1 Axes>"
            ],
            "image/png": "[encoded data removed]"
          },
          "metadata": {}
        },
        {
          "output_type": "stream",
          "name": "stdout",
          "text": [
            "PREDICTION: 5\n",
            "\n",
            "Image 3:\n",
            "   LABEL: 7\n"
          ]
        },
        {
          "output_type": "display_data",
          "data": {
            "text/plain": [
              "<Figure size 640x480 with 1 Axes>"
            ],
            "image/png": "[encoded data removed]"
          },
          "metadata": {}
        },
        {
          "output_type": "stream",
          "name": "stdout",
          "text": [
            "PREDICTION: 5\n",
            "\n",
            "Image 4:\n",
            "   LABEL: 3\n"
          ]
        },
        {
          "output_type": "display_data",
          "data": {
            "text/plain": [
              "<Figure size 640x480 with 1 Axes>"
            ],
            "image/png": "[encoded data removed]"
          },
          "metadata": {}
        },
        {
          "output_type": "stream",
          "name": "stdout",
          "text": [
            "PREDICTION: 3\n",
            "\n",
            "Image 5:\n",
            "   LABEL: 4\n"
          ]
        },
        {
          "output_type": "display_data",
          "data": {
            "text/plain": [
              "<Figure size 640x480 with 1 Axes>"
            ],
            "image/png": "[encoded data removed]"
          },
          "metadata": {}
        },
        {
          "output_type": "stream",
          "name": "stdout",
          "text": [
            "PREDICTION: 4\n",
            "\n",
            "Image 6:\n",
            "   LABEL: 1\n"
          ]
        },
        {
          "output_type": "display_data",
          "data": {
            "text/plain": [
              "<Figure size 640x480 with 1 Axes>"
            ],
            "image/png": "[encoded data removed]"
          },
          "metadata": {}
        },
        {
          "output_type": "stream",
          "name": "stdout",
          "text": [
            "PREDICTION: 1\n",
            "\n",
            "Image 7:\n",
            "   LABEL: 2\n"
          ]
        },
        {
          "output_type": "display_data",
          "data": {
            "text/plain": [
              "<Figure size 640x480 with 1 Axes>"
            ],
            "image/png": "[encoded data removed]"
          },
          "metadata": {}
        },
        {
          "output_type": "stream",
          "name": "stdout",
          "text": [
            "PREDICTION: 2\n",
            "\n",
            "Image 8:\n",
            "   LABEL: 4\n"
          ]
        },
        {
          "output_type": "display_data",
          "data": {
            "text/plain": [
              "<Figure size 640x480 with 1 Axes>"
            ],
            "image/png": "[encoded data removed]"
          },
          "metadata": {}
        },
        {
          "output_type": "stream",
          "name": "stdout",
          "text": [
            "PREDICTION: 6\n",
            "\n",
            "Image 9:\n",
            "   LABEL: 8\n"
          ]
        },
        {
          "output_type": "display_data",
          "data": {
            "text/plain": [
              "<Figure size 640x480 with 1 Axes>"
            ],
            "image/png": "[encoded data removed]"
          },
          "metadata": {}
        },
        {
          "output_type": "stream",
          "name": "stdout",
          "text": [
            "PREDICTION: 8\n",
            "\n",
            "Image 10:\n",
            "   LABEL: 0\n"
          ]
        },
        {
          "output_type": "display_data",
          "data": {
            "text/plain": [
              "<Figure size 640x480 with 1 Axes>"
            ],
            "image/png": "[encoded data removed]"
          },
          "metadata": {}
        },
        {
          "output_type": "stream",
          "name": "stdout",
          "text": [
            "PREDICTION: 0\n",
            "\n"
          ]
        }
      ]
    },
    {
      "cell_type": "markdown",
      "source": [
        "예측 실행 결과를 아래에 한눈에 보이도록 만들었다. 먼저 각 라벨에 대한 명칭은 아래와 같다.\n",
        "\n",
        "0: T-shirt/top, 1: Trouser, 2: Pullover, 3: Dress, 4: Coat 5: Sandal, 6: Shirt, 7: Sneaker, 8: Bag, 9: Ankle boot\n",
        "\n",
        "괄호 안에는 (Label, Prediction) 순서로 적어두었다.\n",
        "\n",
        "image1: (4,4), 정답\n",
        "\n",
        "image2: (5,5), 정답\n",
        "\n",
        "image3: (7,5), ******오답\n",
        "\n",
        "image4: (3,3), 정답\n",
        "\n",
        "image5: (4,4), 정답\n",
        "\n",
        "image6: (1,1), 정답\n",
        "\n",
        "image7: (2,2), 정답\n",
        "\n",
        "image8: (4,6), ******오답\n",
        "\n",
        "image9: (8,8), 정답\n",
        "\n",
        "image10: (0,0), 정답\n",
        "\n",
        "이미지 2개의 예측을 실패한 것으로 나왔다.\n",
        "\n",
        "\n",
        "image3는 sneaker인데 sandal로 예측하였고, image8는 coat인데 shirt로 예측하였다.\n",
        "\n",
        "image3을 살펴보면 눈으로 보기에 image3은 sneaker로 보이기는 한다. 모델이 sandal로 예측한 이유를 생각해보면, 바로 위의 sandal 이미지처럼 신발 내부에 검정색으로 비어있는 부분이 있으면 sandal로 예측을 하는 것 같다. 실제로 image3의 sneaker 내부에 약간의 어두운 선같은 부분들이 있는데, 이런 부분들을 통해 그 쪽이 비어있다고 생각하고 이 이미지를 sandal로 예측한 것으로 보인다.\n",
        "\n",
        "다음으로 image8을 살펴보면, 눈으로 보기에도 image8은 shirt로 보이는데 label은 coat라고 한다. 셔츠의 구김처럼 보이는 이미지와, 가운데 지퍼 또는 단추가 있을 것 같은 비주얼이기 때문에 shirt라고 예측한 것 같다. 이 이미지는 나도 shirt로밖에 안보이기 때문에 이 모델이 이 이미지를 shirt로 예측한 것은 제대로 예측한 것이라 생각한다. 굳이 생각해보면 옷 윗부분이 뭔가 coat의 털 같이 보이기도 하지만, 개인적으로 왜 coat인지는 잘 모르겠다."
      ],
      "metadata": {
        "id": "amBXBIFK6atr"
      }
    },
    {
      "cell_type": "markdown",
      "source": [
        "#숙제 후기"
      ],
      "metadata": {
        "id": "ARLqNwAHSPiu"
      }
    },
    {
      "cell_type": "markdown",
      "source": [
        "- 처음에는 2conv 2linear로 시작했고, validation accuracy는 90%도 간당간당한 수준이었다. 그래서 내가 이 과제를 94%까지 끌어올릴 수 있을지 막막하고 두려웠다. 하이퍼파라미터들을 조정해보고, 활성화 함수를 변경해보고, 스케줄러도 사용해보면서 1%씩 늘어나는 모습을 보며 약간의 희망이 생걌었다. 그런데 93%까지는 안정적으로 나왔지만, 내가 목표로 했던 94%는 나오지 않았다. 그래서 여러가지 시도를 해보다가 resNet을 사용하여 모델을 다시 구성해봤다. 그랬더니 94%가 어느정도 안정적으로 나왔고, 최대 94.5%까지 validation accuracy를 끌어올릴 수 있었다. 처음엔 정말 할 수 없다고 생각했었는데 처음으로 94%가 나오고, 한 번이 아니라 계속 꾸준하게 94%가 나오는 것을 보고 정말 뿌듯했다. test accuracy도 93.2%가 나와서 힘들었던만큼 성공의 기쁨도 느낄 수 있어서 좋았다. 이번 과제를 통해 수업시간에 배웠던 내용에 대해 코드를 짜보면서 더 잘 이해할 수 있었던 것 같다.\n",
        "- 다음으로 이미지 예측과 관련해서, 수업 시간에 학습된 모델이 사람보다 예측을 잘 하기 시작했다고 말씀하셨을 때 믿지 않았었다. 아무리 모델이 예측을 잘해도 사람이 직접 눈으로 보고 맞히는 것을 뛰어 넘을 수 있을까? 라는 생각이었는데, 위 4번 문제의 틀린 이미지를 보면 아무리 봐도 shirt로 보인다. 이 예측 결과를 보고 정말 사람보다 모델이 더 나을수도 있겠다는 생각이 들었다. 아무튼 이번 과제를 통해 딥러닝이 정말 강력한 무기라는 것을 알 수 있었다."
      ],
      "metadata": {
        "id": "GiFQgzhg7a-Q"
      }
    }
  ]
}